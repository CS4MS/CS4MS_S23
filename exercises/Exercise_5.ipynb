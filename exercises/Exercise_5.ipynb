{
 "cells": [
  {
   "cell_type": "markdown",
   "id": "fcc15ffc",
   "metadata": {},
   "source": [
    "\n",
    "# Exercise 5: Metrics and Object Oriented Programming\n",
    "\n",
    "Object oriented programming (OOP) is a popular programming paradigm.  \n",
    "It is based on the idea of 'objects', that have attributes and methods to handle data.  \n",
    "\n",
    "Before you start, please get familiar with the basic concept of OOP by looking at some of the available resources online. \n",
    "If you search for object oriented programming with python on the internet, you will find tons of material, from short beginner tutorials to whole courses.  \n",
    "e.g. [this one](https://realpython.com/python3-object-oriented-programming/) or [this](https://www.codecademy.com/learn/learn-python/modules/learn-python-introduction-to-classes-u)\n",
    "\n"
   ]
  },
  {
   "cell_type": "code",
   "execution_count": 5,
   "id": "449978b9",
   "metadata": {},
   "outputs": [],
   "source": [
    "import numpy as np\n",
    "import matplotlib.pyplot as plt\n",
    "import pandas as pd"
   ]
  },
  {
   "cell_type": "markdown",
   "id": "a3efcda1",
   "metadata": {},
   "source": [
    "The next cell shows an example of how sensitivity can be computed."
   ]
  },
  {
   "cell_type": "code",
   "execution_count": 6,
   "id": "9405d6a3",
   "metadata": {},
   "outputs": [],
   "source": [
    "def compute_sensitivity(x,y):\n",
    "    \"\"\"\n",
    "    Args:\n",
    "        x: one hot encoded vector of predictions\n",
    "        y: one hot encoded vector of ground truth\n",
    "    \"\"\"\n",
    "    if x.shape != y.shape:\n",
    "        raise ValueError(\"x and y should have the same shape.\")\n",
    "    \n",
    "    tp = ((x+y)==2).sum()\n",
    "    p = y.sum()\n",
    "    return tp/p\n",
    "    "
   ]
  },
  {
   "cell_type": "markdown",
   "id": "09145fc3",
   "metadata": {},
   "source": [
    "Lets define small vectors x and y and test the sensitivity function.  \n",
    "The vectors should be one hot encoded.\n",
    "\n",
    "Imagine we are dealing with a task of disease classification for four different patients. To represent whether a patient has a disease or not, we might use the values 0 and 1. Here, 0 means \"disease present,\" and 1 means \"no disease.\"\n",
    "\n",
    "We can store this information in an array. For example, we might have an array [1, 1, 0, 1] for four patients, where the first, second, and fourth patients have a disease, but the third patient does not.\n",
    "\n",
    "This is the concept of one-hot encoding. Each patient (or \"class\") is represented as an array where only one value is \"hot\" (or '1'). The rest of the array is \"cold\" (or '0').\n",
    "\n",
    "You can play around with the values in x and y vectors and their length. "
   ]
  },
  {
   "cell_type": "code",
   "execution_count": 7,
   "id": "f188a654",
   "metadata": {},
   "outputs": [
    {
     "data": {
      "text/plain": [
       "0.6666666666666666"
      ]
     },
     "execution_count": 7,
     "metadata": {},
     "output_type": "execute_result"
    }
   ],
   "source": [
    "x = np.array([1, 1, 0, 1])\n",
    "y = np.array([1, 1, 1, 0])\n",
    "compute_sensitivity(x,y)"
   ]
  },
  {
   "cell_type": "markdown",
   "id": "ca448e8f",
   "metadata": {},
   "source": [
    "## Understanding Sensitivity and Boolean Operations in Python\n",
    "\n",
    "In our function `compute_sensitivity(x, y)`, we encounter the line `tp = ((x+y)==2).sum()`. This line might be a little tricky to understand without prior programming experience, so let's break it down.\n",
    "\n",
    "### Boolean Operations\n",
    "\n",
    "In Python, certain operations return a **boolean value** - `True` or `False`. In the context of numerical computations, Python treats `True` as 1 and `False` as 0.\n",
    "\n",
    "### Understanding the Line `tp = ((x+y)==2).sum()`\n",
    "\n",
    "This line is computing the **True Positives (tp)**, which are the cases where the patient has a disease (`y=1`) and our prediction (`x`) is also positive (`x=1`).\n",
    "\n",
    "1. `x+y` is an element-wise addition of the two vectors, resulting in a new vector where each element is the sum of the corresponding elements in `x` and `y`. \n",
    "\n",
    "2. `(x+y)==2` is a boolean operation that checks which elements in the resulting vector are equal to 2. It creates a new boolean vector, where elements are `True` if the corresponding element in `x+y` is 2, and `False` otherwise.\n",
    "\n",
    "3. `.sum()` adds up all the elements in this boolean vector. Since `True` is treated as 1 and `False` as 0, the sum gives us the count of `True` elements. This is the number of true positives, i.e., cases where both the prediction and the ground truth indicate disease.\n",
    "\n",
    "\n",
    "### Implementing with a For Loop\n",
    "\n",
    "If the above operation seems a bit complex, we can achieve the same result using a `for` loop. Here's how:\n"
   ]
  },
  {
   "cell_type": "code",
   "execution_count": 8,
   "id": "bdd71b8e",
   "metadata": {},
   "outputs": [],
   "source": [
    "def compute_sensitivity_with_loop(x, y):\n",
    "    \"\"\"\n",
    "    Args:\n",
    "        x: one hot encoded vector of predictions\n",
    "        y: one hot encoded vector of ground truth\n",
    "    \"\"\"\n",
    "    if x.shape != y.shape:\n",
    "        raise ValueError(\"x and y should have the same shape.\")\n",
    "    \n",
    "    tp = 0  # Initialize the count of true positives\n",
    "    for i in range(len(x)):\n",
    "        if x[i] == 1 and y[i] == 1:\n",
    "            tp += 1  # Increase the count if both x and y are 1 at this position\n",
    "    \n",
    "    p = y.sum()\n",
    "    return tp / p"
   ]
  },
  {
   "cell_type": "code",
   "execution_count": 9,
   "id": "0e4ac620",
   "metadata": {},
   "outputs": [
    {
     "data": {
      "text/plain": [
       "0.6666666666666666"
      ]
     },
     "execution_count": 9,
     "metadata": {},
     "output_type": "execute_result"
    }
   ],
   "source": [
    "x = np.array([1, 1, 0, 1])\n",
    "y = np.array([1, 1, 1, 0])\n",
    "compute_sensitivity(x,y)"
   ]
  },
  {
   "cell_type": "markdown",
   "id": "338a8902",
   "metadata": {},
   "source": [
    "now let's define a function to compute precision in a similar fashion"
   ]
  },
  {
   "cell_type": "code",
   "execution_count": 4,
   "id": "657acaf8",
   "metadata": {},
   "outputs": [],
   "source": [
    "def compute_precision(x,y):\n",
    "    \"\"\"\n",
    "    Args:\n",
    "        x: one hot encoded vector of predictions\n",
    "        y: one hot encoded vector of ground truth\n",
    "    \"\"\"\n",
    "    if x.shape != y.shape:\n",
    "        raise ValueError(\"x and y should have the same shape.\")\n",
    "    \n",
    "    tp = ((x+y)==2).sum()\n",
    "    fp = ((x-y)==1).sum()\n",
    "    return tp/(tp+fp)"
   ]
  },
  {
   "cell_type": "markdown",
   "id": "bd5ad481",
   "metadata": {},
   "source": [
    "and let's test it with our example vectors:"
   ]
  },
  {
   "cell_type": "code",
   "execution_count": 5,
   "id": "6ce09c94",
   "metadata": {},
   "outputs": [
    {
     "data": {
      "text/plain": [
       "0.6666666666666666"
      ]
     },
     "execution_count": 5,
     "metadata": {},
     "output_type": "execute_result"
    }
   ],
   "source": [
    "compute_precision(x,y)"
   ]
  },
  {
   "cell_type": "markdown",
   "id": "b4af3b5f",
   "metadata": {},
   "source": [
    "You can see that both functions had to compute the false positives (tp), which is fine in this small example, but with very large multi-dimensional tensors would be inconvenient.\n",
    "Also, if you want to make changes to the calculation of tp you would have to do it in both functions.\n",
    "One solution would be to extract the true positive calculation into a new function, but in this exercise we want to focus on OOP.  \n",
    "\n",
    "Let's define a class ConfusionMatrix, that is initialized with our 2 vectors x and y and stores the values of tp, tn... as class attributes."
   ]
  },
  {
   "cell_type": "code",
   "execution_count": 6,
   "id": "a4a86ccd",
   "metadata": {},
   "outputs": [],
   "source": [
    "class ConfusionMatrix():\n",
    "    def __init__(self, x, y):\n",
    "        \"\"\"\n",
    "        Args:\n",
    "            x: one hot encoded vector of predictions\n",
    "            y: one hot encoded vector of ground truth\n",
    "        \"\"\"\n",
    "        self.tp = ((x+y)==2).sum()\n",
    "        self.fp = ((x-y)==1).sum()\n",
    "        self.p = y.sum()\n"
   ]
  },
  {
   "cell_type": "markdown",
   "id": "f876f4bf",
   "metadata": {},
   "source": [
    "now let's create an instance (object) of the class ConfusionMatrix:"
   ]
  },
  {
   "cell_type": "code",
   "execution_count": 7,
   "id": "82311a7b",
   "metadata": {},
   "outputs": [],
   "source": [
    "cm = ConfusionMatrix(x,y)"
   ]
  },
  {
   "cell_type": "markdown",
   "id": "41cf02ef",
   "metadata": {},
   "source": [
    "now we can have a look at the objects attributes:"
   ]
  },
  {
   "cell_type": "code",
   "execution_count": 8,
   "id": "823b95ba",
   "metadata": {},
   "outputs": [
    {
     "data": {
      "text/plain": [
       "1"
      ]
     },
     "execution_count": 8,
     "metadata": {},
     "output_type": "execute_result"
    }
   ],
   "source": [
    "cm.tp\n",
    "cm.fp"
   ]
  },
  {
   "cell_type": "markdown",
   "id": "7d2175e9",
   "metadata": {},
   "source": [
    "We can also define some class methods, e.g. to compute sensitivity"
   ]
  },
  {
   "cell_type": "code",
   "execution_count": 9,
   "id": "9560dc28",
   "metadata": {},
   "outputs": [],
   "source": [
    "class ConfusionMatrix():\n",
    "    def __init__(self, x, y):\n",
    "        \"\"\"\n",
    "        Args:\n",
    "            x: one hot encoded vector of predictions\n",
    "            y: one hot encoded vector of ground truth\n",
    "        \"\"\"\n",
    "        self.tp = ((x+y)==2).sum()\n",
    "        self.fp = ((x-y)==1).sum()\n",
    "        self.p = y.sum()\n",
    "    \n",
    "    def get_sensitivity(self):\n",
    "        return self.tp/self.p"
   ]
  },
  {
   "cell_type": "code",
   "execution_count": 10,
   "id": "402acd5a",
   "metadata": {},
   "outputs": [
    {
     "data": {
      "text/plain": [
       "0.6666666666666666"
      ]
     },
     "execution_count": 10,
     "metadata": {},
     "output_type": "execute_result"
    }
   ],
   "source": [
    "cm = ConfusionMatrix(x,y)\n",
    "cm.get_sensitivity()"
   ]
  },
  {
   "cell_type": "markdown",
   "id": "2a1b2c1e",
   "metadata": {},
   "source": [
    "\n",
    "### Homework:\n",
    "\n",
    "\n",
    "Now you can complete the class ConfusionMatrix by adding methods for specificity, precision and F1 score. Feel free to add more class attributes if needed.  \n",
    "The formulas to compute confusion matrix based metrics can be found in the lecture slides or: [Confusion matrix](https://en.wikipedia.org/wiki/Confusion_matrix)"
   ]
  },
  {
   "cell_type": "code",
   "execution_count": 10,
   "id": "df340d0d",
   "metadata": {},
   "outputs": [],
   "source": [
    "### Homework complete the class ConfusionMatrix here\n",
    "class ConfusionMatrix():\n",
    "    def __init__(self, x, y):\n",
    "        self.tp = ((x+y)==2).sum()\n",
    "        self.fp = ((x-y)==1).sum()\n",
    "        self.p = y.sum()\n",
    "    \n",
    "    def get_sensitivity(self):\n",
    "        return self.tp/self.p\n",
    "    \n",
    "    def get_specificity(self):\n",
    "        # fill here\n",
    "        pass\n",
    "    \n",
    "    def get_precision(self):\n",
    "        # fill here\n",
    "        pass\n",
    "    \n",
    "    def get_f1score(self):\n",
    "        # fill here\n",
    "        pass"
   ]
  },
  {
   "cell_type": "markdown",
   "id": "c20188f6",
   "metadata": {},
   "source": [
    "Finally we want to use our ConfusionMatrix class to plot the ROC:  \n",
    "first we will load a .csv file with values for prediction and actual labels:"
   ]
  },
  {
   "cell_type": "code",
   "execution_count": 11,
   "id": "4ccd435a",
   "metadata": {},
   "outputs": [
    {
     "name": "stdout",
     "output_type": "stream",
     "text": [
      "--2023-05-23 14:39:19--  https://github.com/CS4MS/CS4MS_S23/raw/main/data/exercise5_prediction.csv\n",
      "Resolving github.com (github.com)... 140.82.121.3\n",
      "Connecting to github.com (github.com)|140.82.121.3|:443... connected.\n",
      "HTTP request sent, awaiting response... 404 Not Found\n",
      "2023-05-23 14:39:19 ERROR 404: Not Found.\n",
      "\n"
     ]
    },
    {
     "ename": "FileNotFoundError",
     "evalue": "[Errno 2] No such file or directory: 'exercise5_prediction.csv'",
     "output_type": "error",
     "traceback": [
      "\u001b[0;31m---------------------------------------------------------------------------\u001b[0m",
      "\u001b[0;31mFileNotFoundError\u001b[0m                         Traceback (most recent call last)",
      "Cell \u001b[0;32mIn[11], line 2\u001b[0m\n\u001b[1;32m      1\u001b[0m get_ipython()\u001b[38;5;241m.\u001b[39msystem(\u001b[38;5;124m'\u001b[39m\u001b[38;5;124mwget https://github.com/CS4MS/CS4MS_S23/raw/main/data/exercise5_prediction.csv\u001b[39m\u001b[38;5;124m'\u001b[39m)\n\u001b[0;32m----> 2\u001b[0m pred_df \u001b[38;5;241m=\u001b[39m pd\u001b[38;5;241m.\u001b[39mread_csv(\u001b[38;5;124m'\u001b[39m\u001b[38;5;124mexercise5_prediction.csv\u001b[39m\u001b[38;5;124m'\u001b[39m)\n\u001b[1;32m      4\u001b[0m pred_df\n",
      "File \u001b[0;32m~/miniconda3/envs/cs4ms/lib/python3.11/site-packages/pandas/util/_decorators.py:211\u001b[0m, in \u001b[0;36mdeprecate_kwarg.<locals>._deprecate_kwarg.<locals>.wrapper\u001b[0;34m(*args, **kwargs)\u001b[0m\n\u001b[1;32m    209\u001b[0m     \u001b[38;5;28;01melse\u001b[39;00m:\n\u001b[1;32m    210\u001b[0m         kwargs[new_arg_name] \u001b[38;5;241m=\u001b[39m new_arg_value\n\u001b[0;32m--> 211\u001b[0m \u001b[38;5;28;01mreturn\u001b[39;00m func(\u001b[38;5;241m*\u001b[39margs, \u001b[38;5;241m*\u001b[39m\u001b[38;5;241m*\u001b[39mkwargs)\n",
      "File \u001b[0;32m~/miniconda3/envs/cs4ms/lib/python3.11/site-packages/pandas/util/_decorators.py:331\u001b[0m, in \u001b[0;36mdeprecate_nonkeyword_arguments.<locals>.decorate.<locals>.wrapper\u001b[0;34m(*args, **kwargs)\u001b[0m\n\u001b[1;32m    325\u001b[0m \u001b[38;5;28;01mif\u001b[39;00m \u001b[38;5;28mlen\u001b[39m(args) \u001b[38;5;241m>\u001b[39m num_allow_args:\n\u001b[1;32m    326\u001b[0m     warnings\u001b[38;5;241m.\u001b[39mwarn(\n\u001b[1;32m    327\u001b[0m         msg\u001b[38;5;241m.\u001b[39mformat(arguments\u001b[38;5;241m=\u001b[39m_format_argument_list(allow_args)),\n\u001b[1;32m    328\u001b[0m         \u001b[38;5;167;01mFutureWarning\u001b[39;00m,\n\u001b[1;32m    329\u001b[0m         stacklevel\u001b[38;5;241m=\u001b[39mfind_stack_level(),\n\u001b[1;32m    330\u001b[0m     )\n\u001b[0;32m--> 331\u001b[0m \u001b[38;5;28;01mreturn\u001b[39;00m func(\u001b[38;5;241m*\u001b[39margs, \u001b[38;5;241m*\u001b[39m\u001b[38;5;241m*\u001b[39mkwargs)\n",
      "File \u001b[0;32m~/miniconda3/envs/cs4ms/lib/python3.11/site-packages/pandas/io/parsers/readers.py:950\u001b[0m, in \u001b[0;36mread_csv\u001b[0;34m(filepath_or_buffer, sep, delimiter, header, names, index_col, usecols, squeeze, prefix, mangle_dupe_cols, dtype, engine, converters, true_values, false_values, skipinitialspace, skiprows, skipfooter, nrows, na_values, keep_default_na, na_filter, verbose, skip_blank_lines, parse_dates, infer_datetime_format, keep_date_col, date_parser, dayfirst, cache_dates, iterator, chunksize, compression, thousands, decimal, lineterminator, quotechar, quoting, doublequote, escapechar, comment, encoding, encoding_errors, dialect, error_bad_lines, warn_bad_lines, on_bad_lines, delim_whitespace, low_memory, memory_map, float_precision, storage_options)\u001b[0m\n\u001b[1;32m    935\u001b[0m kwds_defaults \u001b[38;5;241m=\u001b[39m _refine_defaults_read(\n\u001b[1;32m    936\u001b[0m     dialect,\n\u001b[1;32m    937\u001b[0m     delimiter,\n\u001b[0;32m   (...)\u001b[0m\n\u001b[1;32m    946\u001b[0m     defaults\u001b[38;5;241m=\u001b[39m{\u001b[38;5;124m\"\u001b[39m\u001b[38;5;124mdelimiter\u001b[39m\u001b[38;5;124m\"\u001b[39m: \u001b[38;5;124m\"\u001b[39m\u001b[38;5;124m,\u001b[39m\u001b[38;5;124m\"\u001b[39m},\n\u001b[1;32m    947\u001b[0m )\n\u001b[1;32m    948\u001b[0m kwds\u001b[38;5;241m.\u001b[39mupdate(kwds_defaults)\n\u001b[0;32m--> 950\u001b[0m \u001b[38;5;28;01mreturn\u001b[39;00m _read(filepath_or_buffer, kwds)\n",
      "File \u001b[0;32m~/miniconda3/envs/cs4ms/lib/python3.11/site-packages/pandas/io/parsers/readers.py:605\u001b[0m, in \u001b[0;36m_read\u001b[0;34m(filepath_or_buffer, kwds)\u001b[0m\n\u001b[1;32m    602\u001b[0m _validate_names(kwds\u001b[38;5;241m.\u001b[39mget(\u001b[38;5;124m\"\u001b[39m\u001b[38;5;124mnames\u001b[39m\u001b[38;5;124m\"\u001b[39m, \u001b[38;5;28;01mNone\u001b[39;00m))\n\u001b[1;32m    604\u001b[0m \u001b[38;5;66;03m# Create the parser.\u001b[39;00m\n\u001b[0;32m--> 605\u001b[0m parser \u001b[38;5;241m=\u001b[39m TextFileReader(filepath_or_buffer, \u001b[38;5;241m*\u001b[39m\u001b[38;5;241m*\u001b[39mkwds)\n\u001b[1;32m    607\u001b[0m \u001b[38;5;28;01mif\u001b[39;00m chunksize \u001b[38;5;129;01mor\u001b[39;00m iterator:\n\u001b[1;32m    608\u001b[0m     \u001b[38;5;28;01mreturn\u001b[39;00m parser\n",
      "File \u001b[0;32m~/miniconda3/envs/cs4ms/lib/python3.11/site-packages/pandas/io/parsers/readers.py:1442\u001b[0m, in \u001b[0;36mTextFileReader.__init__\u001b[0;34m(self, f, engine, **kwds)\u001b[0m\n\u001b[1;32m   1439\u001b[0m     \u001b[38;5;28mself\u001b[39m\u001b[38;5;241m.\u001b[39moptions[\u001b[38;5;124m\"\u001b[39m\u001b[38;5;124mhas_index_names\u001b[39m\u001b[38;5;124m\"\u001b[39m] \u001b[38;5;241m=\u001b[39m kwds[\u001b[38;5;124m\"\u001b[39m\u001b[38;5;124mhas_index_names\u001b[39m\u001b[38;5;124m\"\u001b[39m]\n\u001b[1;32m   1441\u001b[0m \u001b[38;5;28mself\u001b[39m\u001b[38;5;241m.\u001b[39mhandles: IOHandles \u001b[38;5;241m|\u001b[39m \u001b[38;5;28;01mNone\u001b[39;00m \u001b[38;5;241m=\u001b[39m \u001b[38;5;28;01mNone\u001b[39;00m\n\u001b[0;32m-> 1442\u001b[0m \u001b[38;5;28mself\u001b[39m\u001b[38;5;241m.\u001b[39m_engine \u001b[38;5;241m=\u001b[39m \u001b[38;5;28mself\u001b[39m\u001b[38;5;241m.\u001b[39m_make_engine(f, \u001b[38;5;28mself\u001b[39m\u001b[38;5;241m.\u001b[39mengine)\n",
      "File \u001b[0;32m~/miniconda3/envs/cs4ms/lib/python3.11/site-packages/pandas/io/parsers/readers.py:1735\u001b[0m, in \u001b[0;36mTextFileReader._make_engine\u001b[0;34m(self, f, engine)\u001b[0m\n\u001b[1;32m   1733\u001b[0m     \u001b[38;5;28;01mif\u001b[39;00m \u001b[38;5;124m\"\u001b[39m\u001b[38;5;124mb\u001b[39m\u001b[38;5;124m\"\u001b[39m \u001b[38;5;129;01mnot\u001b[39;00m \u001b[38;5;129;01min\u001b[39;00m mode:\n\u001b[1;32m   1734\u001b[0m         mode \u001b[38;5;241m+\u001b[39m\u001b[38;5;241m=\u001b[39m \u001b[38;5;124m\"\u001b[39m\u001b[38;5;124mb\u001b[39m\u001b[38;5;124m\"\u001b[39m\n\u001b[0;32m-> 1735\u001b[0m \u001b[38;5;28mself\u001b[39m\u001b[38;5;241m.\u001b[39mhandles \u001b[38;5;241m=\u001b[39m get_handle(\n\u001b[1;32m   1736\u001b[0m     f,\n\u001b[1;32m   1737\u001b[0m     mode,\n\u001b[1;32m   1738\u001b[0m     encoding\u001b[38;5;241m=\u001b[39m\u001b[38;5;28mself\u001b[39m\u001b[38;5;241m.\u001b[39moptions\u001b[38;5;241m.\u001b[39mget(\u001b[38;5;124m\"\u001b[39m\u001b[38;5;124mencoding\u001b[39m\u001b[38;5;124m\"\u001b[39m, \u001b[38;5;28;01mNone\u001b[39;00m),\n\u001b[1;32m   1739\u001b[0m     compression\u001b[38;5;241m=\u001b[39m\u001b[38;5;28mself\u001b[39m\u001b[38;5;241m.\u001b[39moptions\u001b[38;5;241m.\u001b[39mget(\u001b[38;5;124m\"\u001b[39m\u001b[38;5;124mcompression\u001b[39m\u001b[38;5;124m\"\u001b[39m, \u001b[38;5;28;01mNone\u001b[39;00m),\n\u001b[1;32m   1740\u001b[0m     memory_map\u001b[38;5;241m=\u001b[39m\u001b[38;5;28mself\u001b[39m\u001b[38;5;241m.\u001b[39moptions\u001b[38;5;241m.\u001b[39mget(\u001b[38;5;124m\"\u001b[39m\u001b[38;5;124mmemory_map\u001b[39m\u001b[38;5;124m\"\u001b[39m, \u001b[38;5;28;01mFalse\u001b[39;00m),\n\u001b[1;32m   1741\u001b[0m     is_text\u001b[38;5;241m=\u001b[39mis_text,\n\u001b[1;32m   1742\u001b[0m     errors\u001b[38;5;241m=\u001b[39m\u001b[38;5;28mself\u001b[39m\u001b[38;5;241m.\u001b[39moptions\u001b[38;5;241m.\u001b[39mget(\u001b[38;5;124m\"\u001b[39m\u001b[38;5;124mencoding_errors\u001b[39m\u001b[38;5;124m\"\u001b[39m, \u001b[38;5;124m\"\u001b[39m\u001b[38;5;124mstrict\u001b[39m\u001b[38;5;124m\"\u001b[39m),\n\u001b[1;32m   1743\u001b[0m     storage_options\u001b[38;5;241m=\u001b[39m\u001b[38;5;28mself\u001b[39m\u001b[38;5;241m.\u001b[39moptions\u001b[38;5;241m.\u001b[39mget(\u001b[38;5;124m\"\u001b[39m\u001b[38;5;124mstorage_options\u001b[39m\u001b[38;5;124m\"\u001b[39m, \u001b[38;5;28;01mNone\u001b[39;00m),\n\u001b[1;32m   1744\u001b[0m )\n\u001b[1;32m   1745\u001b[0m \u001b[38;5;28;01massert\u001b[39;00m \u001b[38;5;28mself\u001b[39m\u001b[38;5;241m.\u001b[39mhandles \u001b[38;5;129;01mis\u001b[39;00m \u001b[38;5;129;01mnot\u001b[39;00m \u001b[38;5;28;01mNone\u001b[39;00m\n\u001b[1;32m   1746\u001b[0m f \u001b[38;5;241m=\u001b[39m \u001b[38;5;28mself\u001b[39m\u001b[38;5;241m.\u001b[39mhandles\u001b[38;5;241m.\u001b[39mhandle\n",
      "File \u001b[0;32m~/miniconda3/envs/cs4ms/lib/python3.11/site-packages/pandas/io/common.py:856\u001b[0m, in \u001b[0;36mget_handle\u001b[0;34m(path_or_buf, mode, encoding, compression, memory_map, is_text, errors, storage_options)\u001b[0m\n\u001b[1;32m    851\u001b[0m \u001b[38;5;28;01melif\u001b[39;00m \u001b[38;5;28misinstance\u001b[39m(handle, \u001b[38;5;28mstr\u001b[39m):\n\u001b[1;32m    852\u001b[0m     \u001b[38;5;66;03m# Check whether the filename is to be opened in binary mode.\u001b[39;00m\n\u001b[1;32m    853\u001b[0m     \u001b[38;5;66;03m# Binary mode does not support 'encoding' and 'newline'.\u001b[39;00m\n\u001b[1;32m    854\u001b[0m     \u001b[38;5;28;01mif\u001b[39;00m ioargs\u001b[38;5;241m.\u001b[39mencoding \u001b[38;5;129;01mand\u001b[39;00m \u001b[38;5;124m\"\u001b[39m\u001b[38;5;124mb\u001b[39m\u001b[38;5;124m\"\u001b[39m \u001b[38;5;129;01mnot\u001b[39;00m \u001b[38;5;129;01min\u001b[39;00m ioargs\u001b[38;5;241m.\u001b[39mmode:\n\u001b[1;32m    855\u001b[0m         \u001b[38;5;66;03m# Encoding\u001b[39;00m\n\u001b[0;32m--> 856\u001b[0m         handle \u001b[38;5;241m=\u001b[39m \u001b[38;5;28mopen\u001b[39m(\n\u001b[1;32m    857\u001b[0m             handle,\n\u001b[1;32m    858\u001b[0m             ioargs\u001b[38;5;241m.\u001b[39mmode,\n\u001b[1;32m    859\u001b[0m             encoding\u001b[38;5;241m=\u001b[39mioargs\u001b[38;5;241m.\u001b[39mencoding,\n\u001b[1;32m    860\u001b[0m             errors\u001b[38;5;241m=\u001b[39merrors,\n\u001b[1;32m    861\u001b[0m             newline\u001b[38;5;241m=\u001b[39m\u001b[38;5;124m\"\u001b[39m\u001b[38;5;124m\"\u001b[39m,\n\u001b[1;32m    862\u001b[0m         )\n\u001b[1;32m    863\u001b[0m     \u001b[38;5;28;01melse\u001b[39;00m:\n\u001b[1;32m    864\u001b[0m         \u001b[38;5;66;03m# Binary mode\u001b[39;00m\n\u001b[1;32m    865\u001b[0m         handle \u001b[38;5;241m=\u001b[39m \u001b[38;5;28mopen\u001b[39m(handle, ioargs\u001b[38;5;241m.\u001b[39mmode)\n",
      "\u001b[0;31mFileNotFoundError\u001b[0m: [Errno 2] No such file or directory: 'exercise5_prediction.csv'"
     ]
    }
   ],
   "source": [
    "!wget https://github.com/CS4MS/CS4MS_S23/raw/main/data/exercise5_prediction.csv\n",
    "pred_df = pd.read_csv('exercise5_prediction.csv')\n",
    "\n",
    "pred_df"
   ]
  },
  {
   "cell_type": "markdown",
   "id": "9b72d5e1",
   "metadata": {},
   "source": [
    "the dataframe has 100 rows and 2 columns for actual values and prediction.  \n",
    "as you can see, the prediction values are floating point and not 0 or 1.  \n",
    "We need to define a threshold that decides if a prediction gets assigned to class 0 or 1.\n"
   ]
  },
  {
   "cell_type": "code",
   "execution_count": null,
   "id": "ba4102ee",
   "metadata": {},
   "outputs": [],
   "source": [
    "threshold = 0.5\n",
    "# first let's turn the dataframe into separate numpy arrays\n",
    "actual = np.array(pred_df['actual'])\n",
    "pred = np.array(pred_df['prediction'])\n",
    "\n",
    "# now we can define a new array new_pred and set the numbers higher than the threshold to 1 and the ones lower to 0.\n",
    "new_pred = np.zeros_like(pred)\n",
    "new_pred[pred> threshold] = 1\n"
   ]
  },
  {
   "cell_type": "code",
   "execution_count": null,
   "id": "d5690b02",
   "metadata": {},
   "outputs": [],
   "source": [
    "# and we can compute our metrics with the confusion matrix:\n",
    "cm = ConfusionMatrix(new_pred,actual)\n",
    "#cm.get_sensitivity()\n",
    "#cm.get_specificity()\n",
    "cm.get_f1score()"
   ]
  },
  {
   "cell_type": "markdown",
   "id": "43699216",
   "metadata": {},
   "source": [
    "The threshold of 0.5 seems to have been a good choice. But what if we had used a different value?  \n"
   ]
  },
  {
   "cell_type": "code",
   "execution_count": null,
   "id": "605bf7f2",
   "metadata": {},
   "outputs": [],
   "source": [
    "# for plotting the ROC we need to use multiple thresholds:\n",
    "# using numpy linspace we can create 100 evenly spaced numbers between 0 and 1:\n",
    "thresholds = np.linspace(0,1,100)\n",
    "#print(thresholds)"
   ]
  },
  {
   "cell_type": "markdown",
   "id": "7025ef8e",
   "metadata": {},
   "source": [
    "\n",
    "### Homework\n",
    "\n",
    "use the thresholds to threshold the predictions, and then compute the metrics needed to plot the ROC.  \n",
    "you can use the lists below to store x and y values."
   ]
  },
  {
   "cell_type": "code",
   "execution_count": null,
   "id": "28558b86",
   "metadata": {},
   "outputs": [],
   "source": [
    "y_values = [] \n",
    "x_values = []\n",
    "# put your code here:"
   ]
  },
  {
   "cell_type": "markdown",
   "id": "3eef1a36",
   "metadata": {},
   "source": [
    "now you can use the cell below to plot the ROC.  \n",
    "the dotted red line shows the ROC for a random classifier"
   ]
  },
  {
   "cell_type": "code",
   "execution_count": null,
   "id": "25e55f10",
   "metadata": {},
   "outputs": [],
   "source": [
    "# plot ROC curve\n",
    "plt.title('ROC')\n",
    "plt.plot(x_values,y_values, 'b')\n",
    "#plt.plot(roc_values)\n",
    "plt.plot([0, 1], [0, 1],'r--')\n",
    "plt.xlim([0, 1])\n",
    "plt.ylim([0, 1])\n",
    "plt.ylabel('Sensitivity')\n",
    "plt.xlabel('1-Specificity')\n",
    "plt.show()"
   ]
  }
 ],
 "metadata": {
  "interpreter": {
   "hash": "62f47e0a940d9130cb9d8ad31b00082fdc26fbada418265db41289562a6ad16c"
  },
  "kernelspec": {
   "display_name": "Python 3 (ipykernel)",
   "language": "python",
   "name": "python3"
  },
  "language_info": {
   "codemirror_mode": {
    "name": "ipython",
    "version": 3
   },
   "file_extension": ".py",
   "mimetype": "text/x-python",
   "name": "python",
   "nbconvert_exporter": "python",
   "pygments_lexer": "ipython3",
   "version": "3.11.3"
  }
 },
 "nbformat": 4,
 "nbformat_minor": 5
}
