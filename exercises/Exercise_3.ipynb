{
  "nbformat": 4,
  "nbformat_minor": 0,
  "metadata": {
    "colab": {
      "provenance": [],
      "toc_visible": true
    },
    "kernelspec": {
      "display_name": "Python 3",
      "language": "python",
      "name": "python3"
    },
    "language_info": {
      "codemirror_mode": {
        "name": "ipython",
        "version": 3
      },
      "file_extension": ".py",
      "mimetype": "text/x-python",
      "name": "python",
      "nbconvert_exporter": "python",
      "pygments_lexer": "ipython3",
      "version": "3.8.3"
    }
  },
  "cells": [
    {
      "cell_type": "markdown",
      "metadata": {
        "id": "Q__hwVrDS4LI"
      },
      "source": [
        "# Introduction\n",
        "\n",
        "This tutorial will teach you how to access real life data and understand it visually.\n",
        "\n",
        "For this article, we employ one of the data sets available in muenchen.de, containing information about Oktoberfest since 1985 until 2019. Although most of the years are not available (Oktoberfest started in 1810!), the data set provides valuable insights about how the festival evolved over the last 30 years.\n",
        "\n",
        "The original data has been taken from here: https://www.opengov-muenchen.de/dataset/oktoberfest (no need to go there now)\n",
        "\n",
        "\n",
        "So, let's jump into it!"
      ]
    },
    {
      "cell_type": "markdown",
      "metadata": {
        "id": "CSD3eMK0WtSq"
      },
      "source": [
        "# Libraries to Use\n",
        "\n",
        "To evaluate the dataset, we use three different Python libraries: Pandas, Matplotlib, and Plotly.\n",
        "\n",
        "- [Pandas](https://pandas.pydata.org/index.html) is a Python open source library for data science that allows us to easily work with structured data, such as **csv files, SQL tables, or Excel spreadsheets**. It provides tools for reading and writing data in different formats, carrying out exploratory analysis, and cleaning data (reshaping data sets, handling missing data, or merging data sets).\n",
        "\n",
        "- [Matplotlib](https://matplotlib.org/) is a Python 2D plotting library that can be used in Python scripts, Jupyter notebooks, and IPython shells, among other environments, producing high quality figures. Matplotlib offers a wide range of visualizations such as histograms, bar chart, scatter plots, box plots, or pie charts.\n",
        "\n",
        "- [Plotly Python](https://plot.ly/python/) graphing library provides as Matplotlib a wide range of visualizations. But, unlike Matplotlib the visualizations provided by Plotly are interactive and more intuitive. 😉\n",
        "After this overview about the libraries used in this analysis, we are ready to start the next step: exploratory data analysis and data cleaning.\n",
        "\n",
        "After this overview of the libraries used in this analysis, we are ready to load the dataset."
      ]
    },
    {
      "cell_type": "markdown",
      "metadata": {
        "id": "8acFoA5Rh0Cb"
      },
      "source": [
        "### Working with directories\n",
        "This module provides a portable way of using operating system dependent functionality, such as retrieving information about paths and files\n",
        "\n"
      ]
    },
    {
      "cell_type": "code",
      "metadata": {
        "id": "w220S5MybNDG",
        "outputId": "e1557f07-8821-4783-8832-ab7785682c12",
        "colab": {
          "base_uri": "https://localhost:8080/"
        }
      },
      "source": [
        "import os\n",
        "\n",
        "### to see where we are currently working in \n",
        "print(os.getcwd())\n",
        "\n",
        "# os.path.join\n",
        "# os.listdir()\n",
        "# etc.\n"
      ],
      "execution_count": null,
      "outputs": [
        {
          "output_type": "stream",
          "name": "stdout",
          "text": [
            "/content\n"
          ]
        }
      ]
    },
    {
      "cell_type": "markdown",
      "metadata": {
        "id": "gZmSypPVDt5N"
      },
      "source": [
        "### Working with paths\n",
        "For a more intuitive approach of working with local files we use the module [pathlib](https://docs.python.org/3/library/pathlib.html) which we will discuss in a later exercise in more detail.\n",
        "\n"
      ]
    },
    {
      "cell_type": "code",
      "metadata": {
        "id": "rtO6N324ba4F",
        "outputId": "5521d720-5bad-4c65-97fa-744e899882ce",
        "colab": {
          "base_uri": "https://localhost:8080/"
        }
      },
      "source": [
        "# importing the pathlib module - a handy library for working with the local file system in an object oriented way\n",
        "from pathlib import Path\n",
        "\n",
        "# creating a path object of our data directory within the mounted Google Drive\n",
        "oktoberfest_path = Path('/content/')\n",
        "\n",
        "print(oktoberfest_path)\n"
      ],
      "execution_count": null,
      "outputs": [
        {
          "output_type": "stream",
          "name": "stdout",
          "text": [
            "/content\n"
          ]
        }
      ]
    },
    {
      "cell_type": "code",
      "metadata": {
        "id": "rsMvlDLV4BdD",
        "outputId": "bc0c44a1-9a04-4805-cc7e-ceebec5c36b6",
        "colab": {
          "base_uri": "https://localhost:8080/"
        }
      },
      "source": [
        "### to download the .csv file\n",
        "!pip install wget\n",
        "\n",
        "import wget\n",
        "\n",
        "wget.download('https://www.opengov-muenchen.de/dataset/8d6c8251-7956-4f92-8c96-f79106aab828/resource/e0f664cf-6dd9-4743-bd2b-81a8b18bd1d2/download/oktoberfestgesamt19852019.csv')\n"
      ],
      "execution_count": null,
      "outputs": [
        {
          "output_type": "stream",
          "name": "stdout",
          "text": [
            "Looking in indexes: https://pypi.org/simple, https://us-python.pkg.dev/colab-wheels/public/simple/\n",
            "Collecting wget\n",
            "  Downloading wget-3.2.zip (10 kB)\n",
            "Building wheels for collected packages: wget\n",
            "  Building wheel for wget (setup.py) ... \u001b[?25l\u001b[?25hdone\n",
            "  Created wheel for wget: filename=wget-3.2-py3-none-any.whl size=9675 sha256=164c6e589f5b77687e7d4cf4ad7d4c81e9757932e4828a36174c4ae01c5f45e9\n",
            "  Stored in directory: /root/.cache/pip/wheels/a1/b6/7c/0e63e34eb06634181c63adacca38b79ff8f35c37e3c13e3c02\n",
            "Successfully built wget\n",
            "Installing collected packages: wget\n",
            "Successfully installed wget-3.2\n"
          ]
        },
        {
          "output_type": "execute_result",
          "data": {
            "text/plain": [
              "'oktoberfestgesamt19852019.csv'"
            ],
            "application/vnd.google.colaboratory.intrinsic+json": {
              "type": "string"
            }
          },
          "metadata": {},
          "execution_count": 4
        }
      ]
    },
    {
      "cell_type": "code",
      "metadata": {
        "id": "Mo4xAVUo6hT-",
        "outputId": "347954ed-633e-42a6-d651-195d50469440",
        "colab": {
          "base_uri": "https://localhost:8080/"
        }
      },
      "source": [
        "# print all the files and directories in our data path\n",
        "print('\\nFiles in our oktoberfest path:')\n",
        "for file in oktoberfest_path.iterdir():\n",
        "  print(file)"
      ],
      "execution_count": null,
      "outputs": [
        {
          "output_type": "stream",
          "name": "stdout",
          "text": [
            "\n",
            "Files in our oktoberfest path:\n",
            "/content/.config\n",
            "/content/oktoberfestgesamt19852019.csv\n",
            "/content/sample_data\n"
          ]
        }
      ]
    },
    {
      "cell_type": "markdown",
      "metadata": {
        "id": "R6r5sXMB87yy"
      },
      "source": [
        "Great... .csv files found. \n",
        "\n",
        "CSV stands for comma-separated values. This is a text-based file format that stores tabular data with each line being a row and columns being separated by commas. Just like a minimalistic Excel file without formating and only values. ([More info on wikipedia](https://en.wikipedia.org/wiki/Comma-separated_values))\n",
        "\n",
        "Let's take the 2019 version and save the path to a variable:\n",
        "\n"
      ]
    },
    {
      "cell_type": "code",
      "metadata": {
        "id": "2xxLWUN5-A8f",
        "outputId": "40060c58-8257-4274-a61a-fee947aea52f",
        "colab": {
          "base_uri": "https://localhost:8080/"
        }
      },
      "source": [
        "# create another pathlib object with the path to the csv file\n",
        "oktoberfest_csv_path = oktoberfest_path / 'oktoberfestgesamt19852019.csv'\n",
        "\n",
        "# make sure this is a file\n",
        "assert oktoberfest_csv_path.is_file(), 'Error oktoberfest csv file not found!'\n",
        "print('Oktoberfest csv file found:', oktoberfest_csv_path.is_file())"
      ],
      "execution_count": null,
      "outputs": [
        {
          "output_type": "stream",
          "name": "stdout",
          "text": [
            "Oktoberfest csv file found: True\n"
          ]
        }
      ]
    },
    {
      "cell_type": "markdown",
      "metadata": {
        "id": "AtEimWqvY4tx"
      },
      "source": [
        "For convenience we load the CSV data into a Pandas data frame using the [pandas.read_csv](https://pandas.pydata.org/pandas-docs/stable/reference/api/pandas.read_csv.html) function and visualize the first 5 rows using the [pandas.DataFrame.head](https://pandas.pydata.org/pandas-docs/stable/reference/api/pandas.DataFrame.head.html) method."
      ]
    },
    {
      "cell_type": "code",
      "metadata": {
        "id": "GTp2mHx0YzmU",
        "outputId": "976f368a-abf3-405f-9bdc-7670f4982348",
        "colab": {
          "base_uri": "https://localhost:8080/"
        }
      },
      "source": [
        "import pandas as pd\n",
        "import matplotlib.pyplot as plt\n",
        "# make plots look prettier\n",
        "plt.style.use('ggplot')\n",
        "\n",
        "# Load data into a pandas dataframe\n",
        "df_oktoberfest = pd.read_csv(oktoberfest_csv_path)\n",
        "\n",
        "# Print first 5 rows of the dataframe\n",
        "df_oktoberfest.head(5)"
      ],
      "execution_count": null,
      "outputs": [
        {
          "output_type": "execute_result",
          "data": {
            "text/plain": [
              "   jahr  dauer  besucher_gesamt  besucher_tag  bier_preis  bier_konsum  \\\n",
              "0  1985     16              7.1           444        3.20        54541   \n",
              "1  1986     16              6.7           419        3.30        53807   \n",
              "2  1987     16              6.5           406        3.37        51842   \n",
              "3  1988     16              5.7           356        3.45        50951   \n",
              "4  1989     16              6.2           388        3.60        51241   \n",
              "\n",
              "   hendl_preis  hendl_konsum  \n",
              "0         4.77        629520  \n",
              "1         3.92        698137  \n",
              "2         3.98        732859  \n",
              "3         4.19        720139  \n",
              "4         4.22        775674  "
            ],
            "text/html": [
              "\n",
              "  <div id=\"df-fa4779d1-9d69-43ec-af18-95b2033f499a\">\n",
              "    <div class=\"colab-df-container\">\n",
              "      <div>\n",
              "<style scoped>\n",
              "    .dataframe tbody tr th:only-of-type {\n",
              "        vertical-align: middle;\n",
              "    }\n",
              "\n",
              "    .dataframe tbody tr th {\n",
              "        vertical-align: top;\n",
              "    }\n",
              "\n",
              "    .dataframe thead th {\n",
              "        text-align: right;\n",
              "    }\n",
              "</style>\n",
              "<table border=\"1\" class=\"dataframe\">\n",
              "  <thead>\n",
              "    <tr style=\"text-align: right;\">\n",
              "      <th></th>\n",
              "      <th>jahr</th>\n",
              "      <th>dauer</th>\n",
              "      <th>besucher_gesamt</th>\n",
              "      <th>besucher_tag</th>\n",
              "      <th>bier_preis</th>\n",
              "      <th>bier_konsum</th>\n",
              "      <th>hendl_preis</th>\n",
              "      <th>hendl_konsum</th>\n",
              "    </tr>\n",
              "  </thead>\n",
              "  <tbody>\n",
              "    <tr>\n",
              "      <th>0</th>\n",
              "      <td>1985</td>\n",
              "      <td>16</td>\n",
              "      <td>7.1</td>\n",
              "      <td>444</td>\n",
              "      <td>3.20</td>\n",
              "      <td>54541</td>\n",
              "      <td>4.77</td>\n",
              "      <td>629520</td>\n",
              "    </tr>\n",
              "    <tr>\n",
              "      <th>1</th>\n",
              "      <td>1986</td>\n",
              "      <td>16</td>\n",
              "      <td>6.7</td>\n",
              "      <td>419</td>\n",
              "      <td>3.30</td>\n",
              "      <td>53807</td>\n",
              "      <td>3.92</td>\n",
              "      <td>698137</td>\n",
              "    </tr>\n",
              "    <tr>\n",
              "      <th>2</th>\n",
              "      <td>1987</td>\n",
              "      <td>16</td>\n",
              "      <td>6.5</td>\n",
              "      <td>406</td>\n",
              "      <td>3.37</td>\n",
              "      <td>51842</td>\n",
              "      <td>3.98</td>\n",
              "      <td>732859</td>\n",
              "    </tr>\n",
              "    <tr>\n",
              "      <th>3</th>\n",
              "      <td>1988</td>\n",
              "      <td>16</td>\n",
              "      <td>5.7</td>\n",
              "      <td>356</td>\n",
              "      <td>3.45</td>\n",
              "      <td>50951</td>\n",
              "      <td>4.19</td>\n",
              "      <td>720139</td>\n",
              "    </tr>\n",
              "    <tr>\n",
              "      <th>4</th>\n",
              "      <td>1989</td>\n",
              "      <td>16</td>\n",
              "      <td>6.2</td>\n",
              "      <td>388</td>\n",
              "      <td>3.60</td>\n",
              "      <td>51241</td>\n",
              "      <td>4.22</td>\n",
              "      <td>775674</td>\n",
              "    </tr>\n",
              "  </tbody>\n",
              "</table>\n",
              "</div>\n",
              "      <button class=\"colab-df-convert\" onclick=\"convertToInteractive('df-fa4779d1-9d69-43ec-af18-95b2033f499a')\"\n",
              "              title=\"Convert this dataframe to an interactive table.\"\n",
              "              style=\"display:none;\">\n",
              "        \n",
              "  <svg xmlns=\"http://www.w3.org/2000/svg\" height=\"24px\"viewBox=\"0 0 24 24\"\n",
              "       width=\"24px\">\n",
              "    <path d=\"M0 0h24v24H0V0z\" fill=\"none\"/>\n",
              "    <path d=\"M18.56 5.44l.94 2.06.94-2.06 2.06-.94-2.06-.94-.94-2.06-.94 2.06-2.06.94zm-11 1L8.5 8.5l.94-2.06 2.06-.94-2.06-.94L8.5 2.5l-.94 2.06-2.06.94zm10 10l.94 2.06.94-2.06 2.06-.94-2.06-.94-.94-2.06-.94 2.06-2.06.94z\"/><path d=\"M17.41 7.96l-1.37-1.37c-.4-.4-.92-.59-1.43-.59-.52 0-1.04.2-1.43.59L10.3 9.45l-7.72 7.72c-.78.78-.78 2.05 0 2.83L4 21.41c.39.39.9.59 1.41.59.51 0 1.02-.2 1.41-.59l7.78-7.78 2.81-2.81c.8-.78.8-2.07 0-2.86zM5.41 20L4 18.59l7.72-7.72 1.47 1.35L5.41 20z\"/>\n",
              "  </svg>\n",
              "      </button>\n",
              "      \n",
              "  <style>\n",
              "    .colab-df-container {\n",
              "      display:flex;\n",
              "      flex-wrap:wrap;\n",
              "      gap: 12px;\n",
              "    }\n",
              "\n",
              "    .colab-df-convert {\n",
              "      background-color: #E8F0FE;\n",
              "      border: none;\n",
              "      border-radius: 50%;\n",
              "      cursor: pointer;\n",
              "      display: none;\n",
              "      fill: #1967D2;\n",
              "      height: 32px;\n",
              "      padding: 0 0 0 0;\n",
              "      width: 32px;\n",
              "    }\n",
              "\n",
              "    .colab-df-convert:hover {\n",
              "      background-color: #E2EBFA;\n",
              "      box-shadow: 0px 1px 2px rgba(60, 64, 67, 0.3), 0px 1px 3px 1px rgba(60, 64, 67, 0.15);\n",
              "      fill: #174EA6;\n",
              "    }\n",
              "\n",
              "    [theme=dark] .colab-df-convert {\n",
              "      background-color: #3B4455;\n",
              "      fill: #D2E3FC;\n",
              "    }\n",
              "\n",
              "    [theme=dark] .colab-df-convert:hover {\n",
              "      background-color: #434B5C;\n",
              "      box-shadow: 0px 1px 3px 1px rgba(0, 0, 0, 0.15);\n",
              "      filter: drop-shadow(0px 1px 2px rgba(0, 0, 0, 0.3));\n",
              "      fill: #FFFFFF;\n",
              "    }\n",
              "  </style>\n",
              "\n",
              "      <script>\n",
              "        const buttonEl =\n",
              "          document.querySelector('#df-fa4779d1-9d69-43ec-af18-95b2033f499a button.colab-df-convert');\n",
              "        buttonEl.style.display =\n",
              "          google.colab.kernel.accessAllowed ? 'block' : 'none';\n",
              "\n",
              "        async function convertToInteractive(key) {\n",
              "          const element = document.querySelector('#df-fa4779d1-9d69-43ec-af18-95b2033f499a');\n",
              "          const dataTable =\n",
              "            await google.colab.kernel.invokeFunction('convertToInteractive',\n",
              "                                                     [key], {});\n",
              "          if (!dataTable) return;\n",
              "\n",
              "          const docLinkHtml = 'Like what you see? Visit the ' +\n",
              "            '<a target=\"_blank\" href=https://colab.research.google.com/notebooks/data_table.ipynb>data table notebook</a>'\n",
              "            + ' to learn more about interactive tables.';\n",
              "          element.innerHTML = '';\n",
              "          dataTable['output_type'] = 'display_data';\n",
              "          await google.colab.output.renderOutput(dataTable, element);\n",
              "          const docLink = document.createElement('div');\n",
              "          docLink.innerHTML = docLinkHtml;\n",
              "          element.appendChild(docLink);\n",
              "        }\n",
              "      </script>\n",
              "    </div>\n",
              "  </div>\n",
              "  "
            ]
          },
          "metadata": {},
          "execution_count": 7
        }
      ]
    },
    {
      "cell_type": "markdown",
      "metadata": {
        "id": "4KRjkk3dZS5h"
      },
      "source": [
        "The data set contains 8 columns: (1) year, (2) duration, (3) total visitors in million, (4) visitors per day in thousands, (5) price of beer, (6) consumption of beer in hektoliters, (7) price of chicken, (8) consumption of chicken.\n",
        "\n",
        "We can also get the last 5 rows using the [pandas.DataFrame.tail](https://pandas.pydata.org/pandas-docs/stable/reference/api/pandas.DataFrame.tail.html) method."
      ]
    },
    {
      "cell_type": "code",
      "metadata": {
        "id": "GuOgX-VZ3Yqs",
        "outputId": "82c5fbbb-b6f5-4042-b455-dbb71f9ae7c5",
        "colab": {
          "base_uri": "https://localhost:8080/"
        }
      },
      "source": [
        "# print the last 5 rows of the dataframe\n",
        "df_oktoberfest.tail(5)"
      ],
      "execution_count": null,
      "outputs": [
        {
          "output_type": "execute_result",
          "data": {
            "text/plain": [
              "    jahr  dauer  besucher_gesamt  besucher_tag  bier_preis  bier_konsum  \\\n",
              "30  2015     16              5.9           369       10.27        75134   \n",
              "31  2016     17              5.6           329       10.57        66231   \n",
              "32  2017     18              6.2           344       10.87        77836   \n",
              "33  2018     16              6.3           394       11.30        78705   \n",
              "34  2019     16              6.3           394       11.71        78502   \n",
              "\n",
              "    hendl_preis  hendl_konsum  \n",
              "30        10.75        503510  \n",
              "31        11.00        366876  \n",
              "32        11.41        466747  \n",
              "33        11.67        436492  \n",
              "34        12.15        434998  "
            ],
            "text/html": [
              "\n",
              "  <div id=\"df-824afcca-bb50-4c30-9c2d-2029e3d91d32\">\n",
              "    <div class=\"colab-df-container\">\n",
              "      <div>\n",
              "<style scoped>\n",
              "    .dataframe tbody tr th:only-of-type {\n",
              "        vertical-align: middle;\n",
              "    }\n",
              "\n",
              "    .dataframe tbody tr th {\n",
              "        vertical-align: top;\n",
              "    }\n",
              "\n",
              "    .dataframe thead th {\n",
              "        text-align: right;\n",
              "    }\n",
              "</style>\n",
              "<table border=\"1\" class=\"dataframe\">\n",
              "  <thead>\n",
              "    <tr style=\"text-align: right;\">\n",
              "      <th></th>\n",
              "      <th>jahr</th>\n",
              "      <th>dauer</th>\n",
              "      <th>besucher_gesamt</th>\n",
              "      <th>besucher_tag</th>\n",
              "      <th>bier_preis</th>\n",
              "      <th>bier_konsum</th>\n",
              "      <th>hendl_preis</th>\n",
              "      <th>hendl_konsum</th>\n",
              "    </tr>\n",
              "  </thead>\n",
              "  <tbody>\n",
              "    <tr>\n",
              "      <th>30</th>\n",
              "      <td>2015</td>\n",
              "      <td>16</td>\n",
              "      <td>5.9</td>\n",
              "      <td>369</td>\n",
              "      <td>10.27</td>\n",
              "      <td>75134</td>\n",
              "      <td>10.75</td>\n",
              "      <td>503510</td>\n",
              "    </tr>\n",
              "    <tr>\n",
              "      <th>31</th>\n",
              "      <td>2016</td>\n",
              "      <td>17</td>\n",
              "      <td>5.6</td>\n",
              "      <td>329</td>\n",
              "      <td>10.57</td>\n",
              "      <td>66231</td>\n",
              "      <td>11.00</td>\n",
              "      <td>366876</td>\n",
              "    </tr>\n",
              "    <tr>\n",
              "      <th>32</th>\n",
              "      <td>2017</td>\n",
              "      <td>18</td>\n",
              "      <td>6.2</td>\n",
              "      <td>344</td>\n",
              "      <td>10.87</td>\n",
              "      <td>77836</td>\n",
              "      <td>11.41</td>\n",
              "      <td>466747</td>\n",
              "    </tr>\n",
              "    <tr>\n",
              "      <th>33</th>\n",
              "      <td>2018</td>\n",
              "      <td>16</td>\n",
              "      <td>6.3</td>\n",
              "      <td>394</td>\n",
              "      <td>11.30</td>\n",
              "      <td>78705</td>\n",
              "      <td>11.67</td>\n",
              "      <td>436492</td>\n",
              "    </tr>\n",
              "    <tr>\n",
              "      <th>34</th>\n",
              "      <td>2019</td>\n",
              "      <td>16</td>\n",
              "      <td>6.3</td>\n",
              "      <td>394</td>\n",
              "      <td>11.71</td>\n",
              "      <td>78502</td>\n",
              "      <td>12.15</td>\n",
              "      <td>434998</td>\n",
              "    </tr>\n",
              "  </tbody>\n",
              "</table>\n",
              "</div>\n",
              "      <button class=\"colab-df-convert\" onclick=\"convertToInteractive('df-824afcca-bb50-4c30-9c2d-2029e3d91d32')\"\n",
              "              title=\"Convert this dataframe to an interactive table.\"\n",
              "              style=\"display:none;\">\n",
              "        \n",
              "  <svg xmlns=\"http://www.w3.org/2000/svg\" height=\"24px\"viewBox=\"0 0 24 24\"\n",
              "       width=\"24px\">\n",
              "    <path d=\"M0 0h24v24H0V0z\" fill=\"none\"/>\n",
              "    <path d=\"M18.56 5.44l.94 2.06.94-2.06 2.06-.94-2.06-.94-.94-2.06-.94 2.06-2.06.94zm-11 1L8.5 8.5l.94-2.06 2.06-.94-2.06-.94L8.5 2.5l-.94 2.06-2.06.94zm10 10l.94 2.06.94-2.06 2.06-.94-2.06-.94-.94-2.06-.94 2.06-2.06.94z\"/><path d=\"M17.41 7.96l-1.37-1.37c-.4-.4-.92-.59-1.43-.59-.52 0-1.04.2-1.43.59L10.3 9.45l-7.72 7.72c-.78.78-.78 2.05 0 2.83L4 21.41c.39.39.9.59 1.41.59.51 0 1.02-.2 1.41-.59l7.78-7.78 2.81-2.81c.8-.78.8-2.07 0-2.86zM5.41 20L4 18.59l7.72-7.72 1.47 1.35L5.41 20z\"/>\n",
              "  </svg>\n",
              "      </button>\n",
              "      \n",
              "  <style>\n",
              "    .colab-df-container {\n",
              "      display:flex;\n",
              "      flex-wrap:wrap;\n",
              "      gap: 12px;\n",
              "    }\n",
              "\n",
              "    .colab-df-convert {\n",
              "      background-color: #E8F0FE;\n",
              "      border: none;\n",
              "      border-radius: 50%;\n",
              "      cursor: pointer;\n",
              "      display: none;\n",
              "      fill: #1967D2;\n",
              "      height: 32px;\n",
              "      padding: 0 0 0 0;\n",
              "      width: 32px;\n",
              "    }\n",
              "\n",
              "    .colab-df-convert:hover {\n",
              "      background-color: #E2EBFA;\n",
              "      box-shadow: 0px 1px 2px rgba(60, 64, 67, 0.3), 0px 1px 3px 1px rgba(60, 64, 67, 0.15);\n",
              "      fill: #174EA6;\n",
              "    }\n",
              "\n",
              "    [theme=dark] .colab-df-convert {\n",
              "      background-color: #3B4455;\n",
              "      fill: #D2E3FC;\n",
              "    }\n",
              "\n",
              "    [theme=dark] .colab-df-convert:hover {\n",
              "      background-color: #434B5C;\n",
              "      box-shadow: 0px 1px 3px 1px rgba(0, 0, 0, 0.15);\n",
              "      filter: drop-shadow(0px 1px 2px rgba(0, 0, 0, 0.3));\n",
              "      fill: #FFFFFF;\n",
              "    }\n",
              "  </style>\n",
              "\n",
              "      <script>\n",
              "        const buttonEl =\n",
              "          document.querySelector('#df-824afcca-bb50-4c30-9c2d-2029e3d91d32 button.colab-df-convert');\n",
              "        buttonEl.style.display =\n",
              "          google.colab.kernel.accessAllowed ? 'block' : 'none';\n",
              "\n",
              "        async function convertToInteractive(key) {\n",
              "          const element = document.querySelector('#df-824afcca-bb50-4c30-9c2d-2029e3d91d32');\n",
              "          const dataTable =\n",
              "            await google.colab.kernel.invokeFunction('convertToInteractive',\n",
              "                                                     [key], {});\n",
              "          if (!dataTable) return;\n",
              "\n",
              "          const docLinkHtml = 'Like what you see? Visit the ' +\n",
              "            '<a target=\"_blank\" href=https://colab.research.google.com/notebooks/data_table.ipynb>data table notebook</a>'\n",
              "            + ' to learn more about interactive tables.';\n",
              "          element.innerHTML = '';\n",
              "          dataTable['output_type'] = 'display_data';\n",
              "          await google.colab.output.renderOutput(dataTable, element);\n",
              "          const docLink = document.createElement('div');\n",
              "          docLink.innerHTML = docLinkHtml;\n",
              "          element.appendChild(docLink);\n",
              "        }\n",
              "      </script>\n",
              "    </div>\n",
              "  </div>\n",
              "  "
            ]
          },
          "metadata": {},
          "execution_count": 8
        }
      ]
    },
    {
      "cell_type": "markdown",
      "metadata": {
        "id": "YvtP4d2U3Yqv"
      },
      "source": [
        "Let's get a feeling for the data and print some statistics with the [pandas.DataFrame.describe](https://pandas.pydata.org/pandas-docs/stable/reference/api/pandas.DataFrame.describe.html) method.\n",
        "\n",
        "Of course you could also calculate single statistics like .mean(), .std() etc.."
      ]
    },
    {
      "cell_type": "code",
      "metadata": {
        "id": "SVW70Jks3Yqw",
        "outputId": "f4795f50-018b-40cb-ce19-50ace3a632ca",
        "colab": {
          "base_uri": "https://localhost:8080/"
        }
      },
      "source": [
        "# generate and print descriptive statistics of the dataframe\n",
        "df_oktoberfest.describe()"
      ],
      "execution_count": null,
      "outputs": [
        {
          "output_type": "execute_result",
          "data": {
            "text/plain": [
              "              jahr      dauer  besucher_gesamt  besucher_tag  bier_preis  \\\n",
              "count    35.000000  35.000000        35.000000     35.000000   35.000000   \n",
              "mean   2002.000000  16.285714         6.314286    388.171429    6.870571   \n",
              "std      10.246951   0.621735         0.390432     26.337723    2.581078   \n",
              "min    1985.000000  16.000000         5.500000    329.000000    3.200000   \n",
              "25%    1993.500000  16.000000         6.050000    369.000000    4.800000   \n",
              "50%    2002.000000  16.000000         6.400000    394.000000    6.750000   \n",
              "75%    2010.500000  16.000000         6.500000    406.000000    8.940000   \n",
              "max    2019.000000  18.000000         7.100000    444.000000   11.710000   \n",
              "\n",
              "        bier_konsum  hendl_preis   hendl_konsum  \n",
              "count     35.000000    35.000000      35.000000  \n",
              "mean   62223.371429     7.592000  571920.714286  \n",
              "std    10229.542414     2.621272  123620.418372  \n",
              "min    48698.000000     3.920000  351705.000000  \n",
              "25%    53214.500000     5.295000  482005.000000  \n",
              "50%    61163.000000     8.120000  521872.000000  \n",
              "75%    70203.000000     9.715000  689689.500000  \n",
              "max    79225.000000    12.150000  807710.000000  "
            ],
            "text/html": [
              "\n",
              "  <div id=\"df-65e2a744-648c-46b2-8d1a-412d347599ff\">\n",
              "    <div class=\"colab-df-container\">\n",
              "      <div>\n",
              "<style scoped>\n",
              "    .dataframe tbody tr th:only-of-type {\n",
              "        vertical-align: middle;\n",
              "    }\n",
              "\n",
              "    .dataframe tbody tr th {\n",
              "        vertical-align: top;\n",
              "    }\n",
              "\n",
              "    .dataframe thead th {\n",
              "        text-align: right;\n",
              "    }\n",
              "</style>\n",
              "<table border=\"1\" class=\"dataframe\">\n",
              "  <thead>\n",
              "    <tr style=\"text-align: right;\">\n",
              "      <th></th>\n",
              "      <th>jahr</th>\n",
              "      <th>dauer</th>\n",
              "      <th>besucher_gesamt</th>\n",
              "      <th>besucher_tag</th>\n",
              "      <th>bier_preis</th>\n",
              "      <th>bier_konsum</th>\n",
              "      <th>hendl_preis</th>\n",
              "      <th>hendl_konsum</th>\n",
              "    </tr>\n",
              "  </thead>\n",
              "  <tbody>\n",
              "    <tr>\n",
              "      <th>count</th>\n",
              "      <td>35.000000</td>\n",
              "      <td>35.000000</td>\n",
              "      <td>35.000000</td>\n",
              "      <td>35.000000</td>\n",
              "      <td>35.000000</td>\n",
              "      <td>35.000000</td>\n",
              "      <td>35.000000</td>\n",
              "      <td>35.000000</td>\n",
              "    </tr>\n",
              "    <tr>\n",
              "      <th>mean</th>\n",
              "      <td>2002.000000</td>\n",
              "      <td>16.285714</td>\n",
              "      <td>6.314286</td>\n",
              "      <td>388.171429</td>\n",
              "      <td>6.870571</td>\n",
              "      <td>62223.371429</td>\n",
              "      <td>7.592000</td>\n",
              "      <td>571920.714286</td>\n",
              "    </tr>\n",
              "    <tr>\n",
              "      <th>std</th>\n",
              "      <td>10.246951</td>\n",
              "      <td>0.621735</td>\n",
              "      <td>0.390432</td>\n",
              "      <td>26.337723</td>\n",
              "      <td>2.581078</td>\n",
              "      <td>10229.542414</td>\n",
              "      <td>2.621272</td>\n",
              "      <td>123620.418372</td>\n",
              "    </tr>\n",
              "    <tr>\n",
              "      <th>min</th>\n",
              "      <td>1985.000000</td>\n",
              "      <td>16.000000</td>\n",
              "      <td>5.500000</td>\n",
              "      <td>329.000000</td>\n",
              "      <td>3.200000</td>\n",
              "      <td>48698.000000</td>\n",
              "      <td>3.920000</td>\n",
              "      <td>351705.000000</td>\n",
              "    </tr>\n",
              "    <tr>\n",
              "      <th>25%</th>\n",
              "      <td>1993.500000</td>\n",
              "      <td>16.000000</td>\n",
              "      <td>6.050000</td>\n",
              "      <td>369.000000</td>\n",
              "      <td>4.800000</td>\n",
              "      <td>53214.500000</td>\n",
              "      <td>5.295000</td>\n",
              "      <td>482005.000000</td>\n",
              "    </tr>\n",
              "    <tr>\n",
              "      <th>50%</th>\n",
              "      <td>2002.000000</td>\n",
              "      <td>16.000000</td>\n",
              "      <td>6.400000</td>\n",
              "      <td>394.000000</td>\n",
              "      <td>6.750000</td>\n",
              "      <td>61163.000000</td>\n",
              "      <td>8.120000</td>\n",
              "      <td>521872.000000</td>\n",
              "    </tr>\n",
              "    <tr>\n",
              "      <th>75%</th>\n",
              "      <td>2010.500000</td>\n",
              "      <td>16.000000</td>\n",
              "      <td>6.500000</td>\n",
              "      <td>406.000000</td>\n",
              "      <td>8.940000</td>\n",
              "      <td>70203.000000</td>\n",
              "      <td>9.715000</td>\n",
              "      <td>689689.500000</td>\n",
              "    </tr>\n",
              "    <tr>\n",
              "      <th>max</th>\n",
              "      <td>2019.000000</td>\n",
              "      <td>18.000000</td>\n",
              "      <td>7.100000</td>\n",
              "      <td>444.000000</td>\n",
              "      <td>11.710000</td>\n",
              "      <td>79225.000000</td>\n",
              "      <td>12.150000</td>\n",
              "      <td>807710.000000</td>\n",
              "    </tr>\n",
              "  </tbody>\n",
              "</table>\n",
              "</div>\n",
              "      <button class=\"colab-df-convert\" onclick=\"convertToInteractive('df-65e2a744-648c-46b2-8d1a-412d347599ff')\"\n",
              "              title=\"Convert this dataframe to an interactive table.\"\n",
              "              style=\"display:none;\">\n",
              "        \n",
              "  <svg xmlns=\"http://www.w3.org/2000/svg\" height=\"24px\"viewBox=\"0 0 24 24\"\n",
              "       width=\"24px\">\n",
              "    <path d=\"M0 0h24v24H0V0z\" fill=\"none\"/>\n",
              "    <path d=\"M18.56 5.44l.94 2.06.94-2.06 2.06-.94-2.06-.94-.94-2.06-.94 2.06-2.06.94zm-11 1L8.5 8.5l.94-2.06 2.06-.94-2.06-.94L8.5 2.5l-.94 2.06-2.06.94zm10 10l.94 2.06.94-2.06 2.06-.94-2.06-.94-.94-2.06-.94 2.06-2.06.94z\"/><path d=\"M17.41 7.96l-1.37-1.37c-.4-.4-.92-.59-1.43-.59-.52 0-1.04.2-1.43.59L10.3 9.45l-7.72 7.72c-.78.78-.78 2.05 0 2.83L4 21.41c.39.39.9.59 1.41.59.51 0 1.02-.2 1.41-.59l7.78-7.78 2.81-2.81c.8-.78.8-2.07 0-2.86zM5.41 20L4 18.59l7.72-7.72 1.47 1.35L5.41 20z\"/>\n",
              "  </svg>\n",
              "      </button>\n",
              "      \n",
              "  <style>\n",
              "    .colab-df-container {\n",
              "      display:flex;\n",
              "      flex-wrap:wrap;\n",
              "      gap: 12px;\n",
              "    }\n",
              "\n",
              "    .colab-df-convert {\n",
              "      background-color: #E8F0FE;\n",
              "      border: none;\n",
              "      border-radius: 50%;\n",
              "      cursor: pointer;\n",
              "      display: none;\n",
              "      fill: #1967D2;\n",
              "      height: 32px;\n",
              "      padding: 0 0 0 0;\n",
              "      width: 32px;\n",
              "    }\n",
              "\n",
              "    .colab-df-convert:hover {\n",
              "      background-color: #E2EBFA;\n",
              "      box-shadow: 0px 1px 2px rgba(60, 64, 67, 0.3), 0px 1px 3px 1px rgba(60, 64, 67, 0.15);\n",
              "      fill: #174EA6;\n",
              "    }\n",
              "\n",
              "    [theme=dark] .colab-df-convert {\n",
              "      background-color: #3B4455;\n",
              "      fill: #D2E3FC;\n",
              "    }\n",
              "\n",
              "    [theme=dark] .colab-df-convert:hover {\n",
              "      background-color: #434B5C;\n",
              "      box-shadow: 0px 1px 3px 1px rgba(0, 0, 0, 0.15);\n",
              "      filter: drop-shadow(0px 1px 2px rgba(0, 0, 0, 0.3));\n",
              "      fill: #FFFFFF;\n",
              "    }\n",
              "  </style>\n",
              "\n",
              "      <script>\n",
              "        const buttonEl =\n",
              "          document.querySelector('#df-65e2a744-648c-46b2-8d1a-412d347599ff button.colab-df-convert');\n",
              "        buttonEl.style.display =\n",
              "          google.colab.kernel.accessAllowed ? 'block' : 'none';\n",
              "\n",
              "        async function convertToInteractive(key) {\n",
              "          const element = document.querySelector('#df-65e2a744-648c-46b2-8d1a-412d347599ff');\n",
              "          const dataTable =\n",
              "            await google.colab.kernel.invokeFunction('convertToInteractive',\n",
              "                                                     [key], {});\n",
              "          if (!dataTable) return;\n",
              "\n",
              "          const docLinkHtml = 'Like what you see? Visit the ' +\n",
              "            '<a target=\"_blank\" href=https://colab.research.google.com/notebooks/data_table.ipynb>data table notebook</a>'\n",
              "            + ' to learn more about interactive tables.';\n",
              "          element.innerHTML = '';\n",
              "          dataTable['output_type'] = 'display_data';\n",
              "          await google.colab.output.renderOutput(dataTable, element);\n",
              "          const docLink = document.createElement('div');\n",
              "          docLink.innerHTML = docLinkHtml;\n",
              "          element.appendChild(docLink);\n",
              "        }\n",
              "      </script>\n",
              "    </div>\n",
              "  </div>\n",
              "  "
            ]
          },
          "metadata": {},
          "execution_count": 9
        }
      ]
    },
    {
      "cell_type": "markdown",
      "metadata": {
        "id": "cx-OjGK_3Yq0"
      },
      "source": [
        "In python, a dataframe is very similar to a dictionary. To get single columns you can use the column names."
      ]
    },
    {
      "cell_type": "code",
      "metadata": {
        "id": "lXoEV8cF3Yq1",
        "outputId": "ba6f89ce-75a0-4551-8c74-70a901da4730",
        "colab": {
          "base_uri": "https://localhost:8080/"
        }
      },
      "source": [
        "# let's print the column names first\n",
        "print(df_oktoberfest.columns)"
      ],
      "execution_count": null,
      "outputs": [
        {
          "output_type": "stream",
          "name": "stdout",
          "text": [
            "Index(['jahr', 'dauer', 'besucher_gesamt', 'besucher_tag', 'bier_preis',\n",
            "       'bier_konsum', 'hendl_preis', 'hendl_konsum'],\n",
            "      dtype='object')\n"
          ]
        }
      ]
    },
    {
      "cell_type": "code",
      "metadata": {
        "id": "m7moI3qP3Yq5",
        "outputId": "0796f5e8-a338-4d14-c6ef-deea72892106",
        "colab": {
          "base_uri": "https://localhost:8080/"
        }
      },
      "source": [
        "# get the column for the beer price via the dictionary syntax:\n",
        "df_oktoberfest['bier_preis']"
      ],
      "execution_count": null,
      "outputs": [
        {
          "output_type": "execute_result",
          "data": {
            "text/plain": [
              "0      3.20\n",
              "1      3.30\n",
              "2      3.37\n",
              "3      3.45\n",
              "4      3.60\n",
              "5      3.77\n",
              "6      4.21\n",
              "7      4.42\n",
              "8      4.71\n",
              "9      4.89\n",
              "10     5.15\n",
              "11     5.24\n",
              "12     5.45\n",
              "13     5.60\n",
              "14     5.80\n",
              "15     6.35\n",
              "16     6.47\n",
              "17     6.75\n",
              "18     6.75\n",
              "19     7.02\n",
              "20     7.15\n",
              "21     7.42\n",
              "22     7.85\n",
              "23     8.25\n",
              "24     8.53\n",
              "25     8.79\n",
              "26     9.09\n",
              "27     9.41\n",
              "28     9.78\n",
              "29     9.98\n",
              "30    10.27\n",
              "31    10.57\n",
              "32    10.87\n",
              "33    11.30\n",
              "34    11.71\n",
              "Name: bier_preis, dtype: float64"
            ]
          },
          "metadata": {},
          "execution_count": 11
        }
      ]
    },
    {
      "cell_type": "code",
      "metadata": {
        "id": "gvB0slR23Yq9",
        "outputId": "97db0c17-4188-4045-e5e0-6884ccd4ee7f",
        "colab": {
          "base_uri": "https://localhost:8080/"
        }
      },
      "source": [
        "# You can also use a namespace to access the same column instead of the dictionary syntax:\n",
        "df_oktoberfest.bier_preis"
      ],
      "execution_count": null,
      "outputs": [
        {
          "output_type": "execute_result",
          "data": {
            "text/plain": [
              "0      3.20\n",
              "1      3.30\n",
              "2      3.37\n",
              "3      3.45\n",
              "4      3.60\n",
              "5      3.77\n",
              "6      4.21\n",
              "7      4.42\n",
              "8      4.71\n",
              "9      4.89\n",
              "10     5.15\n",
              "11     5.24\n",
              "12     5.45\n",
              "13     5.60\n",
              "14     5.80\n",
              "15     6.35\n",
              "16     6.47\n",
              "17     6.75\n",
              "18     6.75\n",
              "19     7.02\n",
              "20     7.15\n",
              "21     7.42\n",
              "22     7.85\n",
              "23     8.25\n",
              "24     8.53\n",
              "25     8.79\n",
              "26     9.09\n",
              "27     9.41\n",
              "28     9.78\n",
              "29     9.98\n",
              "30    10.27\n",
              "31    10.57\n",
              "32    10.87\n",
              "33    11.30\n",
              "34    11.71\n",
              "Name: bier_preis, dtype: float64"
            ]
          },
          "metadata": {},
          "execution_count": 12
        }
      ]
    },
    {
      "cell_type": "code",
      "metadata": {
        "id": "QSJGShtm3YrA",
        "outputId": "0230c506-daf2-4855-a688-79f1bd31d796",
        "colab": {
          "base_uri": "https://localhost:8080/"
        }
      },
      "source": [
        "# Let's calculate the lowest price for one liter of beer recorded .. :-/\n",
        "df_oktoberfest.bier_preis.min()"
      ],
      "execution_count": null,
      "outputs": [
        {
          "output_type": "execute_result",
          "data": {
            "text/plain": [
              "3.2"
            ]
          },
          "metadata": {},
          "execution_count": 13
        }
      ]
    },
    {
      "cell_type": "markdown",
      "metadata": {
        "id": "xLwbXN1xnVKe"
      },
      "source": [
        "So how do we access a specific row?\n",
        "\n",
        "Let's try the [pandas.DataFrame.iloc](https://pandas.pydata.org/pandas-docs/stable/reference/api/pandas.DataFrame.iloc.html) function to view specific years. This function takes the index of each row as the argument, and outputs the corresponding row."
      ]
    },
    {
      "cell_type": "code",
      "metadata": {
        "id": "OxjUJ-4mqppV"
      },
      "source": [
        "df_oktoberfest.iloc[[0]]"
      ],
      "execution_count": null,
      "outputs": []
    },
    {
      "cell_type": "markdown",
      "metadata": {
        "id": "eUVvEsd4q1_M"
      },
      "source": [
        "You can get multiple rows like this.\n"
      ]
    },
    {
      "cell_type": "code",
      "metadata": {
        "id": "mgS-YOloq7Xo"
      },
      "source": [
        "df_oktoberfest.iloc[[0,1,2]]"
      ],
      "execution_count": null,
      "outputs": []
    },
    {
      "cell_type": "markdown",
      "metadata": {
        "id": "SaVpsCoUrABs"
      },
      "source": [
        "Now, let's try to do some data anlaysis. One of the biggest change in German economy was the conversion from Deutsche Mark to Euro. This was roughly around 1999 to 2000. Let's check the data from that years."
      ]
    },
    {
      "cell_type": "code",
      "metadata": {
        "id": "UKBXlRlXnDLA"
      },
      "source": [
        "df_oktoberfest.iloc[[12,13,14,15,16,17],:]"
      ],
      "execution_count": null,
      "outputs": []
    },
    {
      "cell_type": "markdown",
      "metadata": {
        "id": "7SbycDNZn0id"
      },
      "source": [
        "From 1999 to 2000 there is a sudden increase in the beer and chicken price. This can be attributed to the conversion of Deutsche Mark to Euro as the official currency of Germany."
      ]
    },
    {
      "cell_type": "markdown",
      "metadata": {
        "id": "8jGuWNCws9xt"
      },
      "source": [
        "We set year as the index of the data frame. To easily access the information of different years."
      ]
    },
    {
      "cell_type": "code",
      "metadata": {
        "id": "5QStICAAaD9u"
      },
      "source": [
        "# Set year as the index of the data frame\n",
        "df_oktoberfest.set_index('jahr', inplace=True)\n",
        "\n",
        "\n",
        "# Print first 5 rows of the dataframe\n",
        "df_oktoberfest.head()"
      ],
      "execution_count": null,
      "outputs": []
    },
    {
      "cell_type": "markdown",
      "metadata": {
        "id": "Qoj1o8YVrn7e"
      },
      "source": [
        "# Analysing the Data\n",
        "\n",
        "Exploratory data analysis allow us to get a feeling about the data set and to get the data set ready to easily draw conclusions using it.\n",
        "Let's try to answer some common questions.\n",
        "\n",
        "### How did beer price change over the last 34 years? Is there a tendency?\n",
        "\n",
        "Pandas provides a very convenient method for plotting our data frame: [pandas.DataFrame.plot](https://pandas.pydata.org/pandas-docs/stable/reference/api/pandas.DataFrame.plot.html)"
      ]
    },
    {
      "cell_type": "code",
      "metadata": {
        "id": "8CwcKogYzfjq"
      },
      "source": [
        "df_oktoberfest.plot()"
      ],
      "execution_count": null,
      "outputs": []
    },
    {
      "cell_type": "markdown",
      "metadata": {
        "id": "zrX7AKohzfjq"
      },
      "source": [
        "This includes all the columns and is not really useful.\n",
        "\n",
        "Let's specify more argument regarding the columns to include (y) and some formatting ([for more details check the pandas help](https://pandas.pydata.org/pandas-docs/stable/user_guide/visualization.html)):"
      ]
    },
    {
      "cell_type": "code",
      "metadata": {
        "id": "zTxKuQ4nsd2_"
      },
      "source": [
        "# Plot beer price\n",
        "df_oktoberfest.plot(kind='line', y=['bier_preis'], figsize=(15,8), linewidth=3, fontsize=16)\n",
        "\n",
        "# Title, labels and legend\n",
        "plt.legend(labels=['Beer price'],fontsize=16)\n",
        "plt.xlabel('Year',fontsize=16)\n",
        "plt.ylabel('Price (Euro)',fontsize=16)\n",
        "plt.title('History of prices from 1985 until 2018',fontsize=20)"
      ],
      "execution_count": null,
      "outputs": []
    },
    {
      "cell_type": "markdown",
      "metadata": {
        "id": "66HRwWiQtg9w"
      },
      "source": [
        "As we can see from the plot, the price of beer have increased steadily from 1985 until 2019,\n",
        "Matter of fact, the price in 2019 is around three times more than in 1985."
      ]
    },
    {
      "cell_type": "markdown",
      "metadata": {
        "id": "wETVrPWrt4h_"
      },
      "source": [
        "Try to answer the following question yourself.\n",
        "\n",
        "### How did chicken price change over the last 34 years? "
      ]
    },
    {
      "cell_type": "code",
      "metadata": {
        "id": "Lb9R7SpjRUUW"
      },
      "source": [
        "# Plot chicken price\n",
        "\n",
        "### ENTER YOUR CODE ###\n",
        "\n",
        "\n",
        "# Title, labels and legend\n",
        "\n",
        "### ENTER YOUR CODE ###"
      ],
      "execution_count": null,
      "outputs": []
    },
    {
      "cell_type": "code",
      "metadata": {
        "id": "Sdtb1NZIuMVR"
      },
      "source": [
        "# Price of a beer and a chicken in 1985\n",
        "print(df_oktoberfest.loc[1985,['bier_preis','hendl_preis']].sum())\n",
        "\n",
        "\n",
        "# Price of a beer and a chicken in 2018\n",
        "print(df_oktoberfest.loc[2018,['bier_preis','hendl_preis']].sum())\n"
      ],
      "execution_count": null,
      "outputs": []
    },
    {
      "cell_type": "markdown",
      "metadata": {
        "id": "mTFBbW69ull7"
      },
      "source": [
        "So, you can see that a person in 1985 could enjoy a meal at the Oktoberfest for only 7.97 euros. Three decades later, we need almost three times more money (22.97 euros) to enjoy a meal at the festival."
      ]
    },
    {
      "cell_type": "markdown",
      "metadata": {
        "id": "-d4Imd3kvCXF"
      },
      "source": [
        "Here we visualize a interactive plot of the prices"
      ]
    },
    {
      "cell_type": "code",
      "metadata": {
        "id": "mP3RedmxuYC4"
      },
      "source": [
        "import plotly.graph_objects as go\n",
        "\n",
        "# Interactive plots of the price of beer and chicken\n",
        "year = df_oktoberfest.index\n",
        "beer_price = df_oktoberfest.bier_preis\n",
        "chicken_price = df_oktoberfest.hendl_preis\n",
        "\n",
        "fig = go.Figure()\n",
        "\n",
        "fig.add_trace(go.Scatter(x=year, y=chicken_price,\n",
        "                    mode='lines+markers',\n",
        "                    name='Chicken'))\n",
        "\n",
        "fig.add_trace(go.Scatter(x=year, y=beer_price,\n",
        "                    mode='lines+markers',\n",
        "                    name='Beer'))\n",
        "\n",
        "# Title, labels, and background\n",
        "fig.update_layout(title='History of prices from 1985 until 2019',\n",
        "                   xaxis_title='Year',\n",
        "                   yaxis_title='Price (Euro)',\n",
        "                   plot_bgcolor='white')"
      ],
      "execution_count": null,
      "outputs": []
    },
    {
      "cell_type": "markdown",
      "metadata": {
        "id": "m_9EdLMowUwJ"
      },
      "source": [
        "### Beer Consumption\n",
        "\n",
        "Let's take a look at the beer consumption over the years.\n",
        "\n"
      ]
    },
    {
      "cell_type": "code",
      "metadata": {
        "id": "xmVvZ-NPvQXA"
      },
      "source": [
        "# Plot beer consumption \n",
        "df_oktoberfest.plot(y='bier_konsum', figsize=(15,8), linewidth=3, fontsize=16, color='maroon', label='_nolegend_')\n",
        "\n",
        "# Years Landwirtschaftsfest\n",
        "years_landwirtschaftsfest = [1987, 1990, 1993, 1996, 2000, 2004, 2008, 2012, 2016]\n",
        "\n",
        "# Plot vertical line, indicating the celebration of the Landwirtschaftsfest. \n",
        "for year in years_landwirtschaftsfest:\n",
        "    plt.axvline(x=year, color='blue', alpha=0.3)\n",
        "\n",
        "\n",
        "# Annotations - celebration of the landwirtschaftsfest and terrorist attacks  \n",
        "plt.annotate('Vertical lines indicate the celebration of the Landwirtschaftsfest', xy=(2008, 75000), xytext=(1985, 79000), fontsize=15,\n",
        "            arrowprops=dict(facecolor='black', shrink=0.05),bbox = dict(boxstyle=\"round\", fc=\"w\",ec=\"maroon\"),\n",
        "            )\n",
        "plt.annotate('Terrorist attacks 9/11', xy=(2001, df_oktoberfest.loc[2001,'bier_konsum']), xytext=(2004, 52500), fontsize=15,\n",
        "            arrowprops=dict(facecolor='black', shrink=0.05),bbox = dict(boxstyle=\"round\", fc=\"w\",ec=\"maroon\"),\n",
        "            )\n",
        "plt.annotate('Terrorist attacks Paris and Nice', xy=(2016, df_oktoberfest.loc[2016,'bier_konsum']), xytext=(2005, 59000), fontsize=15,\n",
        "            arrowprops=dict(facecolor='black', shrink=0.05),bbox = dict(boxstyle=\"round\", fc=\"w\",ec=\"maroon\"),\n",
        "            )\n",
        "\n",
        "# Title and labels\n",
        "plt.xlabel('Year',fontsize=16)\n",
        "plt.ylabel('Bier consumption (Hectoliters)',fontsize=16)\n",
        "plt.title('Consumption of bier',fontsize=20)"
      ],
      "execution_count": null,
      "outputs": []
    },
    {
      "cell_type": "markdown",
      "metadata": {
        "id": "X_7qbHTTw7A4"
      },
      "source": [
        "As we can observe, the consumption of beer presents a growing trend. The vertical lines indicate the years than the Oktoberfest coincided with the celebration of the Landswirtschaftsfest. This festival is celebrated every four years since 1996 (before every 3) at Theresienwiesen at the same time that Oktoberfest. We can see that small decreases in 2004, 2008, and 2012 could be related to the celebration of this festival.\n",
        "\n",
        "On the contrary, the significant decreases of consumption of beer in 2001 and 2016 could be related to the September 11 terrorist attacks in 2001, the November 2015 Paris terrorist attacks, and the 2016 Nice truck attack. The number of visitors decreased in those years (2001 and 2016), showing the lowest values since 1985.\n"
      ]
    },
    {
      "cell_type": "code",
      "metadata": {
        "id": "F8W3azn4w_Jh"
      },
      "source": [
        "# Lowest number of visitors since 1985 in 2001,2016, and 1988. \n",
        "df_oktoberfest.besucher_gesamt.sort_values().head(3)"
      ],
      "execution_count": null,
      "outputs": []
    },
    {
      "cell_type": "markdown",
      "metadata": {
        "id": "g1xCfUvrxSF0"
      },
      "source": [
        "### Chicken Consumption\n",
        "\n",
        "Now, you try the same for the chicken consumption and see for yourself if we have the same trend as the beer consumption.\n",
        "\n",
        "You would need to do only minor changes to the code of beer consumption."
      ]
    },
    {
      "cell_type": "code",
      "metadata": {
        "id": "ZRtAMYqXxF48"
      },
      "source": [
        "\n",
        "# Plot chicken consumption \n",
        "\n",
        "### ENTER YOUR CODE ###\n",
        "\n",
        "\n",
        "# Years Landwirtschaftsfest\n",
        "years_landwirtschaftsfest = [1987, 1990, 1993, 1996, 2000, 2004, 2008, 2012, 2016]\n",
        "\n",
        "# Plot vertical line, indicating the celebration of the Landwirtschaftsfest. \n",
        "for year in years_landwirtschaftsfest:\n",
        "    plt.axvline(x=year, color='blue', alpha=0.3)\n",
        "\n",
        "\n",
        "# Annotations - celebration of the landwirtschaftsfest and terrorist attacks  \n",
        "\n",
        "### ENTER YOUR CODE ###\n",
        "\n",
        "\n",
        "# Title and labels\n",
        "plt.xlabel('Year',fontsize=16)\n",
        "plt.ylabel('Hendl consumption',fontsize=16)\n",
        "plt.title('Consumption of chicken',fontsize=20)"
      ],
      "execution_count": null,
      "outputs": []
    },
    {
      "cell_type": "markdown",
      "metadata": {
        "id": "6jYROpCEx_rQ"
      },
      "source": [
        "### Number of Visitors\n",
        "\n",
        "Finally let's take a look at the total number of visitors from 1985 to 2019."
      ]
    },
    {
      "cell_type": "code",
      "metadata": {
        "id": "RSztNv9e0pPq"
      },
      "source": [
        "# Plot total number of visitors\n",
        "df_oktoberfest.plot(y='besucher_gesamt', figsize=(13,8), marker='o', linewidth=2, fontsize=16, color='darkblue', label='_nolegend_')\n",
        "\n",
        "\n",
        "# Title and labels\n",
        "plt.xlabel('Year',fontsize=16)\n",
        "plt.ylabel('Number of visitors (Milions)',fontsize=16)\n",
        "plt.title('Total number of visitors',fontsize=20)"
      ],
      "execution_count": null,
      "outputs": []
    },
    {
      "cell_type": "markdown",
      "metadata": {
        "id": "wK0j33HS5iGT"
      },
      "source": [
        "We can easily analyze the number of visitors by using the above plot. As we can observe, the number of visitors does not follow any trend, ranging from 5.5 to 7.1. So, the consumption of beer is not increasing because the festival has more visitors, but because the people drink more. \n"
      ]
    },
    {
      "cell_type": "markdown",
      "metadata": {
        "id": "G8MkDA8H1tVr"
      },
      "source": [
        "# References\n",
        "- https://towardsdatascience.com/oktoberfest-quick-analysis-using-pandas-matplotlib-and-plotly-79778367a4c\n",
        "- https://www.opengov-muenchen.de/dataset/oktoberfest\n",
        "- https://pandas.pydata.org/index.html\n",
        "- https://matplotlib.org/\n",
        "- https://plot.ly/python/"
      ]
    }
  ]
}